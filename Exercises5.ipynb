{
 "cells": [
  {
   "cell_type": "markdown",
   "metadata": {},
   "source": [
    "# Housing Market"
   ]
  },
  {
   "cell_type": "markdown",
   "metadata": {},
   "source": [
    "### Introduction:\n",
    "\n",
    "This time we will create our own dataset with fictional numbers to describe a house market. As we are going to create random data don't try to reason of the numbers.\n",
    "\n",
    "### Step 1. Import the necessary libraries"
   ]
  },
  {
   "cell_type": "code",
   "execution_count": 1,
   "metadata": {},
   "outputs": [],
   "source": [
    "import pandas as pd\n",
    "import numpy as np"
   ]
  },
  {
   "cell_type": "markdown",
   "metadata": {},
   "source": [
    "### Step 2. Create 3 differents Series, each of length 100, as follows: \n",
    "1. The first a random number from 1 to 4 \n",
    "2. The second a random number from 1 to 3\n",
    "3. The third a random number from 10,000 to 30,000"
   ]
  },
  {
   "cell_type": "code",
   "execution_count": 5,
   "metadata": {},
   "outputs": [
    {
     "name": "stdout",
     "output_type": "stream",
     "text": [
      "0     4\n",
      "1     1\n",
      "2     1\n",
      "3     4\n",
      "4     1\n",
      "5     2\n",
      "6     1\n",
      "7     4\n",
      "8     3\n",
      "9     2\n",
      "10    4\n",
      "11    2\n",
      "12    4\n",
      "13    2\n",
      "14    3\n",
      "15    4\n",
      "16    4\n",
      "17    4\n",
      "18    2\n",
      "19    4\n",
      "20    3\n",
      "21    2\n",
      "22    4\n",
      "23    3\n",
      "24    1\n",
      "25    1\n",
      "26    2\n",
      "27    3\n",
      "28    2\n",
      "29    2\n",
      "     ..\n",
      "70    1\n",
      "71    1\n",
      "72    2\n",
      "73    3\n",
      "74    1\n",
      "75    3\n",
      "76    4\n",
      "77    4\n",
      "78    3\n",
      "79    2\n",
      "80    1\n",
      "81    1\n",
      "82    3\n",
      "83    1\n",
      "84    4\n",
      "85    4\n",
      "86    3\n",
      "87    4\n",
      "88    4\n",
      "89    4\n",
      "90    3\n",
      "91    1\n",
      "92    1\n",
      "93    2\n",
      "94    1\n",
      "95    4\n",
      "96    1\n",
      "97    4\n",
      "98    1\n",
      "99    2\n",
      "Length: 100, dtype: int32 0     3\n",
      "1     3\n",
      "2     1\n",
      "3     2\n",
      "4     2\n",
      "5     1\n",
      "6     2\n",
      "7     3\n",
      "8     1\n",
      "9     1\n",
      "10    1\n",
      "11    1\n",
      "12    3\n",
      "13    2\n",
      "14    3\n",
      "15    2\n",
      "16    2\n",
      "17    3\n",
      "18    3\n",
      "19    3\n",
      "20    2\n",
      "21    2\n",
      "22    1\n",
      "23    1\n",
      "24    1\n",
      "25    3\n",
      "26    2\n",
      "27    2\n",
      "28    3\n",
      "29    2\n",
      "     ..\n",
      "70    2\n",
      "71    2\n",
      "72    2\n",
      "73    3\n",
      "74    2\n",
      "75    1\n",
      "76    2\n",
      "77    3\n",
      "78    3\n",
      "79    2\n",
      "80    1\n",
      "81    3\n",
      "82    2\n",
      "83    2\n",
      "84    1\n",
      "85    1\n",
      "86    1\n",
      "87    2\n",
      "88    3\n",
      "89    1\n",
      "90    2\n",
      "91    3\n",
      "92    2\n",
      "93    2\n",
      "94    3\n",
      "95    3\n",
      "96    1\n",
      "97    3\n",
      "98    3\n",
      "99    3\n",
      "Length: 100, dtype: int32 0     23799\n",
      "1     25654\n",
      "2     14441\n",
      "3     29702\n",
      "4     12197\n",
      "5     28567\n",
      "6     13422\n",
      "7     23974\n",
      "8     17006\n",
      "9     15834\n",
      "10    12678\n",
      "11    22740\n",
      "12    21006\n",
      "13    16348\n",
      "14    29541\n",
      "15    18272\n",
      "16    17598\n",
      "17    14013\n",
      "18    26669\n",
      "19    27956\n",
      "20    15058\n",
      "21    27331\n",
      "22    19045\n",
      "23    29767\n",
      "24    29943\n",
      "25    15493\n",
      "26    25306\n",
      "27    29848\n",
      "28    25621\n",
      "29    10908\n",
      "      ...  \n",
      "70    29402\n",
      "71    16674\n",
      "72    14337\n",
      "73    15766\n",
      "74    16111\n",
      "75    27295\n",
      "76    14014\n",
      "77    29829\n",
      "78    11819\n",
      "79    25022\n",
      "80    24546\n",
      "81    19298\n",
      "82    16164\n",
      "83    14996\n",
      "84    12135\n",
      "85    17670\n",
      "86    23999\n",
      "87    18064\n",
      "88    10803\n",
      "89    28662\n",
      "90    27525\n",
      "91    25081\n",
      "92    21796\n",
      "93    20768\n",
      "94    13546\n",
      "95    19552\n",
      "96    16217\n",
      "97    12140\n",
      "98    11264\n",
      "99    18265\n",
      "Length: 100, dtype: int32\n"
     ]
    }
   ],
   "source": [
    "s1 = pd.Series(np.random.randint(1, high=5, size=100, dtype='l'))\n",
    "s2 = pd.Series(np.random.randint(1, high=4, size=100, dtype='l'))\n",
    "s3 = pd.Series(np.random.randint(10000, high=30001, size=100, dtype='l'))\n",
    "\n",
    "print (s1, s2, s3)"
   ]
  },
  {
   "cell_type": "markdown",
   "metadata": {},
   "source": [
    "### Step 3. Let's create a DataFrame by joinning the Series by column"
   ]
  },
  {
   "cell_type": "code",
   "execution_count": null,
   "metadata": {},
   "outputs": [],
   "source": []
  },
  {
   "cell_type": "markdown",
   "metadata": {},
   "source": [
    "### Step 4. Change the name of the columns to bedrs, bathrs, price_sqr_meter"
   ]
  },
  {
   "cell_type": "code",
   "execution_count": null,
   "metadata": {},
   "outputs": [],
   "source": []
  },
  {
   "cell_type": "markdown",
   "metadata": {},
   "source": [
    "### Step 5. Create a one column DataFrame with the values of the 3 Series and assign it to 'bigcolumn'"
   ]
  },
  {
   "cell_type": "code",
   "execution_count": null,
   "metadata": {},
   "outputs": [],
   "source": []
  },
  {
   "cell_type": "markdown",
   "metadata": {},
   "source": [
    "### Step 6. Ops it seems it is going only until index 99. Is it true?"
   ]
  },
  {
   "cell_type": "code",
   "execution_count": null,
   "metadata": {},
   "outputs": [],
   "source": []
  },
  {
   "cell_type": "markdown",
   "metadata": {},
   "source": [
    "### Step 7. Reindex the DataFrame so it goes from 0 to 299"
   ]
  },
  {
   "cell_type": "code",
   "execution_count": null,
   "metadata": {},
   "outputs": [],
   "source": []
  }
 ],
 "metadata": {
  "kernelspec": {
   "display_name": "Python 3",
   "language": "python",
   "name": "python3"
  },
  "language_info": {
   "codemirror_mode": {
    "name": "ipython",
    "version": 3
   },
   "file_extension": ".py",
   "mimetype": "text/x-python",
   "name": "python",
   "nbconvert_exporter": "python",
   "pygments_lexer": "ipython3",
   "version": "3.6.3"
  }
 },
 "nbformat": 4,
 "nbformat_minor": 1
}
